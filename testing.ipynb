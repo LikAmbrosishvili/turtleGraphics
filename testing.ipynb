{
 "cells": [
  {
   "cell_type": "code",
   "execution_count": 1,
   "metadata": {},
   "outputs": [
    {
     "name": "stdout",
     "output_type": "stream",
     "text": [
      "perimeter: 18.84955592153876, area: 28.274333882308138\n",
      "Sin: 0.49999999999999994, Cos: 0.8660254037844387\n"
     ]
    }
   ],
   "source": [
    "from geo import area, perimeter, sin, cos\n",
    "\n",
    "circle_perimeter =  perimeter(3)\n",
    "circle_area = area(3)\n",
    "sin = sin(30)\n",
    "cos = cos(30)\n",
    "\n",
    "print(f\"perimeter: {circle_perimeter}, area: {circle_area}\")\n",
    "print(f\"Sin: {sin}, Cos: {cos}\")\n"
   ]
  },
  {
   "cell_type": "code",
   "execution_count": null,
   "metadata": {},
   "outputs": [],
   "source": []
  }
 ],
 "metadata": {
  "kernelspec": {
   "display_name": "Python 3",
   "language": "python",
   "name": "python3"
  },
  "language_info": {
   "codemirror_mode": {
    "name": "ipython",
    "version": 3
   },
   "file_extension": ".py",
   "mimetype": "text/x-python",
   "name": "python",
   "nbconvert_exporter": "python",
   "pygments_lexer": "ipython3",
   "version": "3.11.7"
  },
  "orig_nbformat": 4
 },
 "nbformat": 4,
 "nbformat_minor": 2
}
